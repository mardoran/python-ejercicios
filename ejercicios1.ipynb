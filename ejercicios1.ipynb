{
 "cells": [
  {
   "cell_type": "markdown",
   "metadata": {},
   "source": [
    "# Ejercicios Python"
   ]
  },
  {
   "cell_type": "markdown",
   "metadata": {},
   "source": [
    "## 1. Índice de masa corporal\n",
    "\n",
    "Escribir un programa que pida al usuario su peso (en kg) y estatura (en metros), calcule su índice de masa corporal y lo muestre con dos decimales. El índice de masa corporal se calcula como el peso dividido por el cuadrado de la estatura.\n",
    "\n",
    "Ejemplo de ejecución\n",
    "\n",
    "```none\n",
    "¿Cuál es tu peso en kg?: 72\n",
    "¿Cuál es tu estatura en metros?: 1.76\n",
    "Tu índice de masa corporal es 23\n",
    "----------------------------------------\n",
    "¿Cuál es tu peso en kg?: 85\n",
    "¿Cuál es tu estatura en metros?: 1.68\n",
    "Tu índice de masa corporal es 30\n",
    "```"
   ]
  },
  {
   "cell_type": "code",
   "execution_count": 17,
   "metadata": {},
   "outputs": [
    {
     "name": "stdout",
     "output_type": "stream",
     "text": [
      "Tu índice de masa corporal es 30.12\n"
     ]
    }
   ],
   "source": [
    "def calcula_IMC(peso, estatura):\n",
    "    return peso/(estatura**2)\n",
    "\n",
    "peso = float(input('¿Cuál es tu peso en kg:')) #convertimos a float la entrada de teclado\n",
    "estatura = float(input('¿Cuál es tu estatura en metros?:')) \n",
    "\n",
    "#mostramos resultado redondeando a 2 decimales\n",
    "print (\"Tu índice de masa corporal es \"+ str(round(calcula_IMC(peso, estatura),2)))\n",
    "\n",
    "# Dificultad: 1"
   ]
  },
  {
   "cell_type": "markdown",
   "metadata": {},
   "source": [
    "## 2. Desplazar elementos de una lista\n",
    "\n",
    "Implementar un programa en Python que:\n",
    "- Lea por teclado un número entero (n) mayor que 0.\n",
    "- Lea por teclado n números separados por espacios y los almacene en una lista.\n",
    "- Lea por teclado un número entero (d) mayor que 0.\n",
    "- Genere una nueva lista donde desplace a la derecha d posiciones (de forma circular) todos los elementos de la lista.\n",
    "\n",
    "\n",
    "Ejemplo de ejecución:\n",
    "```none\n",
    "=============================================\n",
    "Dime el numero de elementos: 8\n",
    "Dime los elementos: 4 7 1 2 5 9 11 31\n",
    "Dime el desplazamiento: 4\n",
    "La lista resultante es: 5 9 11 31 4 7 1 2\n",
    "=============================================\n",
    "```"
   ]
  },
  {
   "cell_type": "code",
   "execution_count": 18,
   "metadata": {},
   "outputs": [
    {
     "name": "stdout",
     "output_type": "stream",
     "text": [
      "['5', '9', '11', '31', '4', '7', '1', '2']\n"
     ]
    }
   ],
   "source": [
    "def desplaza_elementos(cadena_lista, mover):\n",
    "    #separamos la lista introducida como cadena en elementos usando el separador por defecto \" \"\n",
    "    lista = cadena_lista.split()\n",
    "    #con slice vamos a coger los elementos que hay que mover empezando por la derecha (desplazamiento negativo)\n",
    "    ultimos = lista[mover*(-1):]# cogemos los n último elementos que han pedido por el final\n",
    "    primeros = lista[:mover*(-1)] # cogemos del primero al n-1 (end no incluído)\n",
    "    #los devolvemos concatenados a la inversa\n",
    "    return ultimos + primeros \n",
    "\n",
    "\n",
    "num = int(input('Dime el número de elementos: '))\n",
    "elementos = input('Dime los elementos de la lista: ')\n",
    "desplazamiento= int(input('Dime el desplazamiento: '))\n",
    "\n",
    "print (desplaza_elementos(elementos,desplazamiento))\n",
    "\n",
    "#Dificultad: 2 * le dí unas cuantas vueltas con bucles hasta que recordé el concepto slice :)"
   ]
  },
  {
   "cell_type": "markdown",
   "metadata": {},
   "source": [
    "## 3. Múltiplos en una lista\n",
    "\n",
    "Función que busque en una lista los múltiplos de un número y los devuelva en una nueva lista. Tanto el número (el divisor) como la lista serán argumentos de la función. Solo se pide la función. No es necesario implementar un interfaz de usuario, pero se deberían ejecutar casos de prueba.\n",
    "\n",
    "Ejemplo:\n",
    "    Para la lista: **1 2 3 4 5 6 7 8 9 10**\n",
    "    los múltiplos de dos son **2, 4, 6, 8, 10**\n",
    "    y los de tres son **3, 6, 9**"
   ]
  },
  {
   "cell_type": "code",
   "execution_count": 19,
   "metadata": {},
   "outputs": [
    {
     "name": "stdout",
     "output_type": "stream",
     "text": [
      "[3, 6, 9]\n",
      "[5, 10]\n"
     ]
    }
   ],
   "source": [
    "def multiplos(divisor, lista):\n",
    "    # DONE: completar\n",
    "    # declaramos la variable donde vamos a guardar los múltiplos a devolver\n",
    "    lista_multiplos= []\n",
    "    for x in range(len(lista)): #del index 0 a la longitud de la lista (no incluída)\n",
    "        if lista[x]%divisor==0 : #si el resto de dividir el elemento entre el divisor es 0, es que son múltiplos\n",
    "            lista_multiplos.append(lista[x]) #añadimos el elemento al resultado\n",
    "    return lista_multiplos\n",
    "\n",
    "# Para probar\n",
    "print(multiplos(3, [1,2,3,4,5,6,7,8,9,10])) # Debe mostrar [3, 6, 9]\n",
    "print(multiplos(5, [1,2,3,4,5,6,7,8,9,10])) # Debe mostrar [5, 10]\n",
    "\n",
    "# Dificultad: 1"
   ]
  },
  {
   "cell_type": "markdown",
   "metadata": {},
   "source": [
    "## 4. Triángulo de números\n",
    "\n",
    "Función que reciba un número y dibuje un triángulo de números siguiendo el siguiente patrón. Solo la función y casos de prueba.\n",
    "\n",
    "Para 4:\n",
    "```none\n",
    "1\n",
    "2 2\n",
    "3 3 3\n",
    "4 4 4 4\n",
    "3 3 3\n",
    "2 2\n",
    "1\n",
    "```\n",
    "\n",
    "Para 3:\n",
    "```none\n",
    "1\n",
    "2 2\n",
    "3 3 3\n",
    "2 2\n",
    "1\n",
    "```"
   ]
  },
  {
   "cell_type": "code",
   "execution_count": 15,
   "metadata": {},
   "outputs": [
    {
     "name": "stdout",
     "output_type": "stream",
     "text": [
      "1\n",
      "22\n",
      "333\n",
      "4444\n",
      "333\n",
      "22\n",
      "1\n"
     ]
    }
   ],
   "source": [
    "def triangulo(num):\n",
    "    for x in range(1,num+1):\n",
    "        print (str(x)*x)\n",
    "    for x in range(num-1,0,-1):\n",
    "        print(str(x)*x)\n",
    " \n",
    "#invocaciones de prueba       \n",
    "triangulo(4)\n",
    "triangulo(7)\n",
    "\n",
    "# Dificultad: 1"
   ]
  }
 ],
 "metadata": {
  "kernelspec": {
   "display_name": "base",
   "language": "python",
   "name": "python3"
  },
  "language_info": {
   "codemirror_mode": {
    "name": "ipython",
    "version": 3
   },
   "file_extension": ".py",
   "mimetype": "text/x-python",
   "name": "python",
   "nbconvert_exporter": "python",
   "pygments_lexer": "ipython3",
   "version": "3.12.0"
  }
 },
 "nbformat": 4,
 "nbformat_minor": 2
}
