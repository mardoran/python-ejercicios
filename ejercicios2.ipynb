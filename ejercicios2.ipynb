{
 "cells": [
  {
   "cell_type": "markdown",
   "metadata": {},
   "source": [
    "# Ejercicios Python 2"
   ]
  },
  {
   "cell_type": "markdown",
   "metadata": {},
   "source": [
    "Resuelve cada ejercicio en su celda y añade las pruebas necesarias para comprobar que funciona correctamente. Indica en un comentario la dificultad encontrada (del 1 al 5)."
   ]
  },
  {
   "cell_type": "code",
   "execution_count": 1,
   "metadata": {},
   "outputs": [],
   "source": [
    "# Función que recibe una lista y devuelve otra eliminando sus duplicados (función y pruebas)"
   ]
  },
  {
   "cell_type": "code",
   "execution_count": 2,
   "metadata": {},
   "outputs": [],
   "source": [
    "# Función que recibe una matriz (una lista de listas) y devuelve otra eliminando sus duplicados"
   ]
  },
  {
   "cell_type": "code",
   "execution_count": 3,
   "metadata": {},
   "outputs": [],
   "source": [
    "# Función que recibe una lista y devuelve un diccionario con el número de veces que aparece cada elemento (las claves del diccionario deben ser los elementos de la lista y los valores deben ser el número de veces que aparece dicho elemento en la lista)\n"
   ]
  },
  {
   "cell_type": "code",
   "execution_count": 4,
   "metadata": {},
   "outputs": [
    {
     "name": "stdout",
     "output_type": "stream",
     "text": [
      "None\n"
     ]
    },
    {
     "ename": "AssertionError",
     "evalue": "",
     "output_type": "error",
     "traceback": [
      "\u001b[1;31m---------------------------------------------------------------------------\u001b[0m",
      "\u001b[1;31mAssertionError\u001b[0m                            Traceback (most recent call last)",
      "Cell \u001b[1;32mIn[4], line 9\u001b[0m\n\u001b[0;32m      7\u001b[0m matriz2 \u001b[38;5;241m=\u001b[39m [[\u001b[38;5;241m1\u001b[39m, \u001b[38;5;241m5\u001b[39m, \u001b[38;5;241m6\u001b[39m], [\u001b[38;5;241m7\u001b[39m, \u001b[38;5;241m5\u001b[39m, \u001b[38;5;241m9\u001b[39m], [\u001b[38;5;241m1\u001b[39m, \u001b[38;5;241m2\u001b[39m, \u001b[38;5;241m9\u001b[39m]] \u001b[38;5;66;03m# Matriz 3x3\u001b[39;00m\n\u001b[0;32m      8\u001b[0m \u001b[38;5;28mprint\u001b[39m(valores_iguales_matriz(matriz1, matriz2)) \u001b[38;5;66;03m# Debería mostrar una matriz identidad\u001b[39;00m\n\u001b[1;32m----> 9\u001b[0m \u001b[38;5;28;01massert\u001b[39;00m valores_iguales_matriz(matriz1, matriz2) \u001b[38;5;241m==\u001b[39m [[\u001b[38;5;241m1\u001b[39m, \u001b[38;5;241m0\u001b[39m, \u001b[38;5;241m0\u001b[39m], [\u001b[38;5;241m0\u001b[39m, \u001b[38;5;241m1\u001b[39m, \u001b[38;5;241m0\u001b[39m], [\u001b[38;5;241m0\u001b[39m, \u001b[38;5;241m0\u001b[39m, \u001b[38;5;241m1\u001b[39m]]\n\u001b[0;32m     10\u001b[0m \u001b[38;5;124;03m'''\u001b[39;00m\n\u001b[0;32m     11\u001b[0m \u001b[38;5;124;03mLa sentencia assert evalúa una expresión booleana. Si es True, no hace nada. Si es False, lanza una excepción de tipo AssertionError.\u001b[39;00m\n\u001b[0;32m     12\u001b[0m \u001b[38;5;124;03mSi tu función es correcta, al ejecutar no debería mostrar nada. Si falla, mostrará un AssertionError.\u001b[39;00m\n\u001b[0;32m     13\u001b[0m \u001b[38;5;124;03mSe utiliza para testing. \u001b[39;00m\n\u001b[0;32m     14\u001b[0m \u001b[38;5;124;03mhttps://ellibrodepython.com/assert-python\u001b[39;00m\n\u001b[0;32m     15\u001b[0m \u001b[38;5;124;03m'''\u001b[39;00m\n",
      "\u001b[1;31mAssertionError\u001b[0m: "
     ]
    }
   ],
   "source": [
    "# Función que recibe dos matrices cuadradas (NxN) y devuelve una tercera matriz que contiene el valor 1 en las posiciones en que el valor de A y B coinciden y 0 en caso contrario.\n",
    "def valores_iguales_matriz(matriz1, matriz2):\n",
    "    pass  \n",
    "\n",
    "# Tests\n",
    "matriz1 = [[1, 2, 3], [4, 5, 6], [7, 8, 9]] # Matriz 3x3\n",
    "matriz2 = [[1, 5, 6], [7, 5, 9], [1, 2, 9]] # Matriz 3x3\n",
    "print(valores_iguales_matriz(matriz1, matriz2)) # Debería mostrar una matriz identidad\n",
    "assert valores_iguales_matriz(matriz1, matriz2) == [[1, 0, 0], [0, 1, 0], [0, 0, 1]]"
   ]
  },
  {
   "cell_type": "markdown",
   "metadata": {},
   "source": [
    "La sentencia assert evalúa una expresión booleana. Si es True, no hace nada. Si es False, lanza una excepción de tipo AssertionError.\n",
    "Si tu función es correcta, al ejecutar no debería mostrar nada. Si falla, mostrará un AssertionError.\n",
    "Se utiliza para testing. \n",
    "https://ellibrodepython.com/assert-python"
   ]
  },
  {
   "cell_type": "code",
   "execution_count": 5,
   "metadata": {},
   "outputs": [],
   "source": [
    "# Función que recibe una matriz y busca sus puntos de silla (mínimo de su fila y máximo de su columna o viceversa). Debe devolver una lista de tuplas con las coordenadas de los puntos de silla.\n"
   ]
  },
  {
   "cell_type": "markdown",
   "metadata": {},
   "source": [
    "## "
   ]
  },
  {
   "cell_type": "markdown",
   "metadata": {},
   "source": [
    "## "
   ]
  }
 ],
 "metadata": {
  "kernelspec": {
   "display_name": "base",
   "language": "python",
   "name": "python3"
  },
  "language_info": {
   "codemirror_mode": {
    "name": "ipython",
    "version": 3
   },
   "file_extension": ".py",
   "mimetype": "text/x-python",
   "name": "python",
   "nbconvert_exporter": "python",
   "pygments_lexer": "ipython3",
   "version": "3.11.5"
  }
 },
 "nbformat": 4,
 "nbformat_minor": 2
}
