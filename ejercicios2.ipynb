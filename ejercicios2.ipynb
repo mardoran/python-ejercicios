{
 "cells": [
  {
   "cell_type": "markdown",
   "metadata": {},
   "source": [
    "# Ejercicios Python 2"
   ]
  },
  {
   "cell_type": "markdown",
   "metadata": {},
   "source": [
    "Resuelve cada ejercicio en su celda y añade las pruebas necesarias para comprobar que funciona correctamente. Indica en un comentario la dificultad encontrada (del 1 al 5)."
   ]
  },
  {
   "cell_type": "code",
   "execution_count": 6,
   "metadata": {},
   "outputs": [
    {
     "name": "stdout",
     "output_type": "stream",
     "text": [
      "[1, 3, 4, 5, 2, 7, 8]\n",
      "['verde', 'azul', 'gris', 'rojo', 'negro']\n"
     ]
    }
   ],
   "source": [
    "# Función que recibe una lista y devuelve otra eliminando sus duplicados (función y pruebas)\n",
    "def sin_duplicados(lista):\n",
    "    lista_limpia=[] #creamos una lista vacía donde almacenaremos los elementos \"únicos\"\n",
    "    for elem in lista: \n",
    "        if elem not in lista_limpia: #comprobamos para cada elemento si no está en la lista de únicos\n",
    "            lista_limpia.append(elem) #si no está, lo añadimos\n",
    "    return lista_limpia\n",
    "        \n",
    "#pruebas        \n",
    "print (sin_duplicados([1,3,4,3,5,5,2,1,3,2,7,8,5]))\n",
    "print (sin_duplicados([\"verde\",\"azul\",\"gris\",\"azul\",\"rojo\",\"negro\",\"rojo\"]))\n",
    "\n",
    "#Dificultad: 1"
   ]
  },
  {
   "cell_type": "code",
   "execution_count": 7,
   "metadata": {},
   "outputs": [],
   "source": [
    "# Función que recibe una matriz (una lista de listas) y devuelve otra eliminando sus duplicados"
   ]
  },
  {
   "cell_type": "code",
   "execution_count": 8,
   "metadata": {},
   "outputs": [],
   "source": [
    "# Función que recibe una lista y devuelve un diccionario con el número de veces que aparece cada elemento (las claves del diccionario deben ser los elementos de la lista y los valores deben ser el número de veces que aparece dicho elemento en la lista)\n"
   ]
  },
  {
   "cell_type": "code",
   "execution_count": 10,
   "metadata": {},
   "outputs": [
    {
     "name": "stdout",
     "output_type": "stream",
     "text": [
      "[[1, 0, 0], [0, 1, 0], [0, 0, 1]]\n"
     ]
    }
   ],
   "source": [
    "# Función que recibe dos matrices cuadradas (NxN) y devuelve una tercera matriz que contiene el valor 1 en las posiciones en que el valor de A y B coinciden y 0 en caso contrario.\n",
    "def valores_iguales_matriz(matriz1, matriz2):\n",
    "    matriz_comparacion= [] #declaramos la matriz a devolver\n",
    "    fila_comparacion = [] #declaramos una lista para ir añadiendo a la matriz\n",
    "    for row in range(len(matriz1)): # de la primera fila, al total de filas de la matriz 1 (damos por hecho que matriz1 y 2 tienen el mismo tamaño)\n",
    "        for col in range(len(matriz1[row])): # cogemos elemento a elemento de cada fila de la lista\n",
    "            if matriz1[row][col]==matriz2[row][col]: #los comparamos\n",
    "                 fila_comparacion.append(1) #si son iguales añado un 1 a mi lista\n",
    "            else:\n",
    "                 fila_comparacion.append(0) #si no lo son añado un 0\n",
    "        matriz_comparacion.append(fila_comparacion) #al acabar de comparar los elementos de la fila, añado mi nueva lista a la matriz\n",
    "        fila_comparacion=[] #vacío mi lista para poder rellenarla con la comparación de la siguiente fila\n",
    "    return matriz_comparacion # después de comparar todos los elementos de todas las filas, devuelvo mi matriz\n",
    "\n",
    "# Tests\n",
    "matriz1 = [[1, 2, 3], [4, 5, 6], [7, 8, 9]] # Matriz 3x3\n",
    "matriz2 = [[1, 5, 6], [7, 5, 9], [1, 2, 9]] # Matriz 3x3\n",
    "valores_iguales_matriz(matriz1, matriz2)\n",
    "\n",
    "print(valores_iguales_matriz(matriz1, matriz2)) # Debería mostrar una matriz identidad\n",
    "assert valores_iguales_matriz(matriz1, matriz2) == [[1, 0, 0], [0, 1, 0], [0, 0, 1]]\n",
    "\n",
    "#Dificultad: 2\n",
    "\n",
    "# \"\"\"\n",
    "# La sentencia assert evalúa una expresión booleana. Si es True, no hace nada. Si es False, lanza una excepción de tipo AssertionError.\n",
    "# Si tu función es correcta, al ejecutar no debería mostrar nada. Si falla, mostrará un AssertionError.\n",
    "# Se utiliza para testing. \n",
    "# https://ellibrodepython.com/assert-python\n",
    "# \"\"\"\n"
   ]
  },
  {
   "cell_type": "code",
   "execution_count": 5,
   "metadata": {},
   "outputs": [],
   "source": [
    "# Función que recibe una matriz y busca sus puntos de silla (mínimo de su fila y máximo de su columna o viceversa). Debe devolver una lista de tuplas con las coordenadas de los puntos de silla.\n"
   ]
  },
  {
   "cell_type": "markdown",
   "metadata": {},
   "source": [
    "## "
   ]
  },
  {
   "cell_type": "markdown",
   "metadata": {},
   "source": [
    "## "
   ]
  }
 ],
 "metadata": {
  "kernelspec": {
   "display_name": "base",
   "language": "python",
   "name": "python3"
  },
  "language_info": {
   "codemirror_mode": {
    "name": "ipython",
    "version": 3
   },
   "file_extension": ".py",
   "mimetype": "text/x-python",
   "name": "python",
   "nbconvert_exporter": "python",
   "pygments_lexer": "ipython3",
   "version": "3.11.5"
  }
 },
 "nbformat": 4,
 "nbformat_minor": 2
}
