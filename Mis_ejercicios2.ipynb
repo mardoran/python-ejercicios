{
 "cells": [
  {
   "cell_type": "markdown",
   "metadata": {},
   "source": [
    "# Ejercicios Python 2"
   ]
  },
  {
   "cell_type": "markdown",
   "metadata": {},
   "source": [
    "Resuelve cada ejercicio en su celda y añade las pruebas necesarias para comprobar que funciona correctamente. Indica en un comentario la dificultad encontrada (del 1 al 5)."
   ]
  },
  {
   "cell_type": "markdown",
   "metadata": {},
   "source": [
    "# Función que recibe una lista y devuelve otra eliminando sus duplicados (función y pruebas)"
   ]
  },
  {
   "cell_type": "code",
   "execution_count": 1,
   "metadata": {},
   "outputs": [
    {
     "name": "stdout",
     "output_type": "stream",
     "text": [
      "[1, 3, 4, 5, 2, 7, 8]\n",
      "['verde', 'azul', 'gris', 'rojo', 'negro']\n"
     ]
    }
   ],
   "source": [
    "def sin_duplicados(lista):\n",
    "    lista_limpia=[] #creamos una lista vacía donde almacenaremos los elementos \"únicos\"\n",
    "    for elem in lista: \n",
    "        if elem not in lista_limpia: #comprobamos para cada elemento si no está en la lista de únicos\n",
    "            lista_limpia.append(elem) #si no está, lo añadimos\n",
    "    return lista_limpia\n",
    "        \n",
    "#pruebas        \n",
    "print (sin_duplicados([1,3,4,3,5,5,2,1,3,2,7,8,5]))\n",
    "print (sin_duplicados([\"verde\",\"azul\",\"gris\",\"azul\",\"rojo\",\"negro\",\"rojo\"]))\n",
    "\n",
    "#Dificultad: 1"
   ]
  },
  {
   "cell_type": "markdown",
   "metadata": {},
   "source": [
    "# Función que recibe una matriz (una lista de listas) y devuelve otra eliminando sus duplicados"
   ]
  },
  {
   "cell_type": "code",
   "execution_count": 3,
   "metadata": {},
   "outputs": [
    {
     "name": "stdout",
     "output_type": "stream",
     "text": [
      "[[5, 6, 8], [3], [9, 10]]\n",
      "[['verde', 'azul'], ['gris'], ['rojo', 'negro'], ['amarillo']]\n"
     ]
    }
   ],
   "source": [
    "def matriz_sin_duplicados(matriz):\n",
    "    \n",
    "    matriz_sin_duplicar = []\n",
    "    lista_compare = [] #declaramos una lista para almacenar en paralelo todos los elementos de nuestra matriz resultante y que así sea más sencillo comparar si ya existen\n",
    "    index = 0 #necesitamos una variable para saber las filas que vamos insertando en nuestra matriz resultante\n",
    "    \n",
    "    for lista in matriz: #nos quedamos con cada fila de la matriz\n",
    "        matriz_sin_duplicar.append([]); # por cada fila de la matriz original añadiremos una lista vacía a nuestra matriz a devolver\n",
    "        for elem in lista: #por cada elemento de la fila de la matriz original        \n",
    "            if elem not in lista_compare: # comparamos con nuestra lista creada en paralelo para comparar\n",
    "                matriz_sin_duplicar[index].append(elem) #añadimos a matriz resultado\n",
    "                lista_compare.append(elem) #añaidmos a lista paralela\n",
    "        index += 1 \n",
    "    return matriz_sin_duplicar  \n",
    "\n",
    "#pruebas\n",
    "print(matriz_sin_duplicados([[5, 6, 8], [8, 5, 3], [9, 10, 3]]))\n",
    "print(matriz_sin_duplicados([[\"verde\",\"azul\"],[\"gris\",\"azul\"],[\"rojo\",\"negro\",\"rojo\"],[\"negro\",\"amarillo\"]]))\n",
    "\n",
    "#Dificultad: 3 *éste se me ha atragantado :)"
   ]
  },
  {
   "cell_type": "markdown",
   "metadata": {},
   "source": [
    "# Función que recibe una lista y devuelve un diccionario con el número de veces que aparece cada elemento (las claves del diccionario deben ser los elementos de la lista y los valores deben ser el número de veces que aparece dicho elemento en la lista)"
   ]
  },
  {
   "cell_type": "code",
   "execution_count": 9,
   "metadata": {},
   "outputs": [
    {
     "name": "stdout",
     "output_type": "stream",
     "text": [
      "{1: 1, 2: 2, 4: 3, 5: 1, 6: 1, 7: 1, 3: 2}\n",
      "{'verde': 1, 'azul': 2, 'gris': 1, 'rojo': 3, 'negro': 1}\n"
     ]
    }
   ],
   "source": [
    "def lista_a_diccionario(lista):\n",
    "    diccionario = {} #declaramos el diccionario a devolver que iremos rellenando con los valores de la lista\n",
    "    for elem in lista: # recorremos la lista que nos pasan\n",
    "        if elem in diccionario:\n",
    "            diccionario[elem]+=1  #si el elemento de la lista ya está en las claves de nuestro diccionario,sumamos 1 al valor\n",
    "        else:\n",
    "            diccionario[elem]=1 #si no está en nuestro diccionario, lo insertamos con valor 1 \n",
    "    return diccionario\n",
    "     \n",
    "#pruebas   \n",
    "print (lista_a_diccionario([1,2,4,5,6,7,2,3,3,4,4]))\n",
    "print (lista_a_diccionario([\"verde\",\"azul\",\"gris\",\"azul\",\"rojo\",\"negro\",\"rojo\",\"rojo\"]))\n",
    "\n",
    "#Dificultad: 1"
   ]
  },
  {
   "cell_type": "markdown",
   "metadata": {},
   "source": [
    "# Función que recibe dos matrices cuadradas (NxN) y devuelve una tercera matriz que contiene el valor 1 en las posiciones en que el valor de A y B coinciden y 0 en caso contrario."
   ]
  },
  {
   "cell_type": "code",
   "execution_count": 11,
   "metadata": {},
   "outputs": [
    {
     "name": "stdout",
     "output_type": "stream",
     "text": [
      "[[1, 0, 0], [0, 1, 0], [0, 0, 1]]\n"
     ]
    }
   ],
   "source": [
    "def valores_iguales_matriz(matriz1, matriz2):\n",
    "    matriz_comparacion= [] #declaramos la matriz a devolver\n",
    "    fila_comparacion = [] #declaramos una lista para ir añadiendo a la matriz\n",
    "    for row in range(len(matriz1)): # de la primera fila, al total de filas de la matriz 1 (damos por hecho que matriz1 y 2 tienen el mismo tamaño)\n",
    "        for elem in range(len(matriz1[row])): # cogemos elemento a elemento de cada fila de la lista\n",
    "            if matriz1[row][elem]==matriz2[row][elem]: #los comparamos\n",
    "                 fila_comparacion.append(1) #si son iguales añado un 1 a mi lista\n",
    "            else:\n",
    "                 fila_comparacion.append(0) #si no lo son añado un 0\n",
    "        matriz_comparacion.append(fila_comparacion) #al acabar de comparar los elementos de la fila, añado mi nueva lista a la matriz\n",
    "        fila_comparacion=[] #vacío mi lista para poder rellenarla con la comparación de la siguiente fila\n",
    "    return matriz_comparacion # después de comparar todos los elementos de todas las filas, devuelvo mi matriz\n",
    "\n",
    "# Tests\n",
    "matriz1 = [[1, 2, 3], [4, 5, 6], [7, 8, 9]] # Matriz 3x3\n",
    "matriz2 = [[1, 5, 6], [7, 5, 9], [1, 2, 9]] # Matriz 3x3\n",
    "\n",
    "print(valores_iguales_matriz(matriz1, matriz2)) # Debería mostrar una matriz identidad\n",
    "assert valores_iguales_matriz(matriz1, matriz2) == [[1, 0, 0], [0, 1, 0], [0, 0, 1]]\n",
    "\n",
    "#Dificultad: 2\n",
    "\n",
    "# \"\"\"\n",
    "# La sentencia assert evalúa una expresión booleana. Si es True, no hace nada. Si es False, lanza una excepción de tipo AssertionError.\n",
    "# Si tu función es correcta, al ejecutar no debería mostrar nada. Si falla, mostrará un AssertionError.\n",
    "# Se utiliza para testing. \n",
    "# https://ellibrodepython.com/assert-python\n",
    "# \"\"\"\n"
   ]
  },
  {
   "cell_type": "markdown",
   "metadata": {},
   "source": [
    "# Función que recibe una matriz y busca sus puntos de silla (mínimo de su fila y máximo de su columna o viceversa). Debe devolver una lista de tuplas con las coordenadas de los puntos de silla."
   ]
  },
  {
   "cell_type": "code",
   "execution_count": null,
   "metadata": {},
   "outputs": [
    {
     "name": "stdout",
     "output_type": "stream",
     "text": [
      "[(0, 2)]\n",
      "[(2, 0)]\n"
     ]
    }
   ],
   "source": [
    "def devuelve_puntos_silla(matriz, max_fila=True):\n",
    "    puntos_silla = []\n",
    "    # Recorremos cada fila de la matriz\n",
    "    for i in range(len(matriz)):\n",
    "        fila = matriz[i]\n",
    "        # Encontramos el máximo/mínimo de la fila en función de la variable opcional (si max_fila es True buscamos maximo fila y mínimo columna, si no, al revés)\n",
    "        if max_fila:\n",
    "            maximo_fila = max(fila)  \n",
    "        else:    \n",
    "            minimo_fila = min(fila)\n",
    "\n",
    "        #Almacenamos el índice de las columnas donde se encuentra el máximo de la fila\n",
    "        if max_fila:\n",
    "            indexCol_fila = [j for j, valor in enumerate(fila) if valor == maximo_fila]\n",
    "        else:\n",
    "            indexCol_fila = [j for j, valor in enumerate(fila) if valor == minimo_fila]          \n",
    "\n",
    "        # Verificamos si el máximo de la fila es mínimo en su columna correspondiente o a la inversa\n",
    "        for columna in indexCol_fila:\n",
    "            columna_actual = [matriz[x][columna] for x in range(len(matriz))] #iteramos todas las filas en el index de columna donde está el máximo de fila, para ir montando nuestra columna\n",
    "            if max_fila:\n",
    "                if maximo_fila == min(columna_actual): #si el valor que tenemos de máximo de fila, coincide con el de mínimo de columna, hemos encontrado el punto de silla\n",
    "                    puntos_silla.append((i, columna))\n",
    "            else:\n",
    "                if minimo_fila == max(columna_actual):#si el valor que tenemos de mínimo de fila, coincide con el de máximo de columna, hemos encontrado el punto de silla\n",
    "                     puntos_silla.append((i, columna))                   \n",
    "    return puntos_silla\n",
    "\n",
    "#pruebas\n",
    "\n",
    "print(devuelve_puntos_silla([[1, 2, 3], [4, 5, 6], [7, 8, 9]])) # (0,2) el 3 es el máximo de su fila y mínimo de su columna \n",
    "assert devuelve_puntos_silla([[1, 2, 3], [4, 5, 6], [7, 8, 9]]) == [(0, 2)]\n",
    "print(devuelve_puntos_silla([[1, 2, 3], [4, 5, 6], [7, 8, 9]],False)) #(2,0) el 7 es el mínimo de su fila y máximo de su columna\n",
    "assert devuelve_puntos_silla([[1, 2, 3], [4, 5, 6], [7, 8, 9]],False) == [(2, 0)]\n"
   ]
  },
  {
   "cell_type": "markdown",
   "metadata": {},
   "source": [
    "## "
   ]
  },
  {
   "cell_type": "markdown",
   "metadata": {},
   "source": [
    "## "
   ]
  }
 ],
 "metadata": {
  "kernelspec": {
   "display_name": "base",
   "language": "python",
   "name": "python3"
  },
  "language_info": {
   "codemirror_mode": {
    "name": "ipython",
    "version": 3
   },
   "file_extension": ".py",
   "mimetype": "text/x-python",
   "name": "python",
   "nbconvert_exporter": "python",
   "pygments_lexer": "ipython3",
   "version": "3.12.0"
  }
 },
 "nbformat": 4,
 "nbformat_minor": 2
}
